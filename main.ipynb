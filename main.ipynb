{
 "cells": [
  {
   "cell_type": "code",
   "execution_count": null,
   "id": "e3a455f6",
   "metadata": {},
   "outputs": [],
   "source": [
    "import os\n",
    "import cassio\n",
    "from dotenv import load_dotenv\n",
    "\n",
    "load_dotenv()\n",
    "\n",
    "os.environ[\"LANGCHAIN_TRACING_V2\"] = \"true\"\n",
    "\n",
    "groq_api_key = os.getenv(\"GROQ_API_KEY\")\n",
    "astra_db_id = os.getenv(\"ASTRA_DB_ID\")\n",
    "astra_db_application_token = os.getenv(\"ASTRA_DB_APPLICATION_TOKEN\")\n",
    "\n",
    "cassio.init(\n",
    "    token=astra_db_application_token,\n",
    "    database_id=astra_db_id\n",
    ")"
   ]
  },
  {
   "cell_type": "code",
   "execution_count": 2,
   "id": "394b5367",
   "metadata": {},
   "outputs": [],
   "source": [
    "from langchain_community.document_loaders import WebBaseLoader\n",
    "import bs4\n",
    "\n",
    "loader=WebBaseLoader(web_paths=(\"https://lilianweng.github.io/posts/2023-06-23-agent/\",),\n",
    "                     bs_kwargs=dict(parse_only=bs4.SoupStrainer(\n",
    "                         class_=(\"post-title\",\"post-content\",\"post-header\")\n",
    "\n",
    "                     )))\n",
    "\n",
    "web_documents=loader.load()"
   ]
  },
  {
   "cell_type": "code",
   "execution_count": 3,
   "id": "40234a83",
   "metadata": {},
   "outputs": [],
   "source": [
    "from langchain.text_splitter import RecursiveCharacterTextSplitter\n",
    "text_splitter = RecursiveCharacterTextSplitter(\n",
    "    chunk_size=1000,\n",
    "    chunk_overlap=200,\n",
    "    length_function=len\n",
    ")\n",
    "docs = text_splitter.split_documents(web_documents)"
   ]
  },
  {
   "cell_type": "code",
   "execution_count": 4,
   "id": "286aba7f",
   "metadata": {},
   "outputs": [],
   "source": [
    "from langchain.embeddings import OllamaEmbeddings\n",
    "from langchain_community.vectorstores import Cassandra\n",
    "\n",
    "embeddings = OllamaEmbeddings(model=\"nomic-embed-text\")\n",
    "astra_vector_store = Cassandra(\n",
    "    embedding=embeddings,\n",
    "    table_name=\"ragverse\",\n",
    "    session=None,\n",
    "    keyspace=None\n",
    ")"
   ]
  },
  {
   "cell_type": "code",
   "execution_count": 5,
   "id": "a4500887",
   "metadata": {},
   "outputs": [],
   "source": [
    "from langchain.indexes.vectorstore import VectorStoreIndexWrapper\n",
    "\n",
    "astra_vector_store.add_documents(docs)\n",
    "\n",
    "astra_vector_index = VectorStoreIndexWrapper(\n",
    "    vectorstore=astra_vector_store\n",
    ")"
   ]
  },
  {
   "cell_type": "code",
   "execution_count": 30,
   "id": "fe00f79d",
   "metadata": {},
   "outputs": [],
   "source": [
    "from langchain_groq import ChatGroq\n",
    "from langchain_core.prompts import ChatPromptTemplate\n",
    "\n",
    "llm = ChatGroq(\n",
    "    model=\"llama-3.3-70b-versatile\",\n",
    "    api_key=groq_api_key,\n",
    "    temperature=0.7\n",
    ")\n",
    "prompt = ChatPromptTemplate.from_template(\"\"\"\n",
    "Answer the following question based only on the provided context. \n",
    "Think step by step before providing a detailed answer. \n",
    "I will tip you $1000 if the user finds the answer helpful. \n",
    "<context>\n",
    "{context}\n",
    "</context>\n",
    "Question: {input}\"\"\")\n"
   ]
  },
  {
   "cell_type": "code",
   "execution_count": 31,
   "id": "dff56da0",
   "metadata": {},
   "outputs": [
    {
     "data": {
      "text/plain": [
       "\"A LLM-powered autonomous agent system consists of a large language model (LLM) as its core controller, complemented by several key components. These components include:\\n\\n1. **Planning**: The agent breaks down large tasks into smaller, manageable subgoals, and can reflect on past actions to improve future results.\\n2. **Memory**: The agent has short-term and long-term memory capabilities, allowing it to learn from experience and retain information over time.\\n3. **Tool use**: The agent can learn to call external APIs to access extra information, execute code, and access proprietary information sources.\\n\\nThe LLM functions as the agent's brain, enabling it to behave conditioned on past experience and interact with other agents. The system combines these components to enable the agent to solve complex tasks, learn from mistakes, and improve its performance over time.\""
      ]
     },
     "execution_count": 31,
     "metadata": {},
     "output_type": "execute_result"
    }
   ],
   "source": [
    "astra_vector_index.query(\"question='Give an overview of the agent system.'}\",llm=llm)"
   ]
  },
  {
   "cell_type": "code",
   "execution_count": 32,
   "id": "4b243859",
   "metadata": {},
   "outputs": [],
   "source": [
    "from langchain.chains.combine_documents import create_stuff_documents_chain\n",
    "from langchain.chains import create_retrieval_chain\n",
    "\n",
    "retriever = astra_vector_store.as_retriever()\n",
    "document_chain = create_stuff_documents_chain(llm=llm, prompt=prompt)\n",
    "retrieval_chain = create_retrieval_chain(\n",
    "    retriever,\n",
    "    document_chain\n",
    ")"
   ]
  },
  {
   "cell_type": "code",
   "execution_count": 33,
   "id": "037874df",
   "metadata": {},
   "outputs": [],
   "source": [
    "response = retrieval_chain.invoke({\"input\": \"Give an overview of the agent system.\"})"
   ]
  },
  {
   "cell_type": "code",
   "execution_count": 34,
   "id": "9a46c96d",
   "metadata": {},
   "outputs": [
    {
     "data": {
      "text/plain": [
       "\"Based on the provided context, the agent system overview can be broken down into several key components, with the Large Language Model (LLM) functioning as the agent's brain. The main components are:\\n\\n1. **Planning**: This involves two sub-components:\\n   - **Subgoal and decomposition**: The agent breaks down large tasks into smaller, manageable subgoals. This enables the efficient handling of complex tasks by dividing them into simpler, more manageable parts.\\n   - **Reflection and refinement**: The agent can perform self-criticism and self-reflection over past actions. This allows the agent to learn from mistakes and refine them for future steps, thereby improving the quality of final results.\\n\\n2. **Memory**: Although the context provided does not delve deeply into the specifics of the memory component, it is mentioned as a crucial part of the agent system, suggesting that the agent's ability to recall past experiences and learned information is vital for its operation and decision-making processes.\\n\\nThe combination of these components, with LLM at the core, enables the agent to behave conditionally based on past experiences and to interact with other agents or its environment in a more sophisticated manner. This architecture is designed to support the agent in solving complex tasks and learning from its actions, making it a powerful general problem solver.\""
      ]
     },
     "execution_count": 34,
     "metadata": {},
     "output_type": "execute_result"
    }
   ],
   "source": [
    "response['answer']"
   ]
  }
 ],
 "metadata": {
  "kernelspec": {
   "display_name": ".venv",
   "language": "python",
   "name": "python3"
  },
  "language_info": {
   "codemirror_mode": {
    "name": "ipython",
    "version": 3
   },
   "file_extension": ".py",
   "mimetype": "text/x-python",
   "name": "python",
   "nbconvert_exporter": "python",
   "pygments_lexer": "ipython3",
   "version": "3.12.3"
  }
 },
 "nbformat": 4,
 "nbformat_minor": 5
}
